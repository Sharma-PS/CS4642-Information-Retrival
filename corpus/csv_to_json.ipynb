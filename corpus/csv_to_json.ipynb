{
 "cells": [
  {
   "attachments": {},
   "cell_type": "markdown",
   "metadata": {},
   "source": [
    "# CSV TO JSON"
   ]
  },
  {
   "attachments": {},
   "cell_type": "markdown",
   "metadata": {},
   "source": [
    "#### Imports"
   ]
  },
  {
   "cell_type": "code",
   "execution_count": 1,
   "metadata": {},
   "outputs": [],
   "source": [
    "import pandas as pd"
   ]
  },
  {
   "attachments": {},
   "cell_type": "markdown",
   "metadata": {},
   "source": [
    "#### Data"
   ]
  },
  {
   "cell_type": "code",
   "execution_count": 2,
   "metadata": {},
   "outputs": [
    {
     "data": {
      "text/html": [
       "<div>\n",
       "<style scoped>\n",
       "    .dataframe tbody tr th:only-of-type {\n",
       "        vertical-align: middle;\n",
       "    }\n",
       "\n",
       "    .dataframe tbody tr th {\n",
       "        vertical-align: top;\n",
       "    }\n",
       "\n",
       "    .dataframe thead th {\n",
       "        text-align: right;\n",
       "    }\n",
       "</style>\n",
       "<table border=\"1\" class=\"dataframe\">\n",
       "  <thead>\n",
       "    <tr style=\"text-align: right;\">\n",
       "      <th></th>\n",
       "      <th>பாடல்</th>\n",
       "      <th>படம்</th>\n",
       "      <th>வருடம்</th>\n",
       "      <th>இசை</th>\n",
       "      <th>பாடலாசிரியர்</th>\n",
       "      <th>பாடகர்</th>\n",
       "      <th>வரி</th>\n",
       "      <th>உருவகம்</th>\n",
       "      <th>உவமானம்</th>\n",
       "      <th>உவமேயம்</th>\n",
       "      <th>விளக்கம்</th>\n",
       "    </tr>\n",
       "  </thead>\n",
       "  <tbody>\n",
       "    <tr>\n",
       "      <th>0</th>\n",
       "      <td>எங்க அப்பத்தா</td>\n",
       "      <td>நாய் சேகர் Returns</td>\n",
       "      <td>2022</td>\n",
       "      <td>சந்தோஷ் நாராயணன்</td>\n",
       "      <td>விவேக்</td>\n",
       "      <td>வடிவேல், சந்தோஷ் நாராயணன்</td>\n",
       "      <td>மக்காளி மக்காளி வாங்க போற யானை குட்டி ஹேய் அர ...</td>\n",
       "      <td>உவமை</td>\n",
       "      <td>பேங்கு</td>\n",
       "      <td>பணக்காரன்</td>\n",
       "      <td>பேங்குக்கே லோன் தருவோம் பாஸ்</td>\n",
       "    </tr>\n",
       "    <tr>\n",
       "      <th>1</th>\n",
       "      <td>எங்க அப்பத்தா</td>\n",
       "      <td>நாய் சேகர் Returns</td>\n",
       "      <td>2022</td>\n",
       "      <td>சந்தோஷ் நாராயணன்</td>\n",
       "      <td>துரை, அசல் கோலார்</td>\n",
       "      <td>வடிவேல்</td>\n",
       "      <td>எங்க அப்பத்தா ஷை டைப் நைன் பேபீஸ் யங் வயசுல வீ...</td>\n",
       "      <td>உவமை</td>\n",
       "      <td>பேங்கு</td>\n",
       "      <td>பணக்காரன்</td>\n",
       "      <td>பேங்கு</td>\n",
       "    </tr>\n",
       "    <tr>\n",
       "      <th>2</th>\n",
       "      <td>என்னை விட்டு உயிர் போனாலும்</td>\n",
       "      <td>Love Today</td>\n",
       "      <td>2022</td>\n",
       "      <td>யுவன் ஷங்கர் ராஜா</td>\n",
       "      <td>பிரதீப் ரங்கநாதன்</td>\n",
       "      <td>சித் ஸ்ரீராம்</td>\n",
       "      <td>என்னை விட்டு உயிர் போனாலும் உன்னை விட்டு நான் ...</td>\n",
       "      <td>உவமை</td>\n",
       "      <td>நிலவே இல்லா வானமே</td>\n",
       "      <td>காதலி</td>\n",
       "      <td>நீ இல்லா நேரம் அது நிலவே இல்லா வானமே</td>\n",
       "    </tr>\n",
       "    <tr>\n",
       "      <th>3</th>\n",
       "      <td>சாச்சிட்டாளேஆள சாச்சிட்டாளே</td>\n",
       "      <td>Love Today</td>\n",
       "      <td>2022</td>\n",
       "      <td>யுவன் ஷங்கர் ராஜா</td>\n",
       "      <td>பிரதீப் ரங்கநாதன்</td>\n",
       "      <td>யுவன் ஷங்கர் ராஜா</td>\n",
       "      <td>ஊரே அவள பார்த்தா அவ என்ன மட்டும் பார்த்தா யார்...</td>\n",
       "      <td>உவமை</td>\n",
       "      <td>அவள் அவனை பார்த்தாள்</td>\n",
       "      <td>பெண்ணின் காதல் விருப்பம்</td>\n",
       "      <td>ஊரே அவள பார்த்தா அவ என்ன மட்டும் பார்த்தா</td>\n",
       "    </tr>\n",
       "    <tr>\n",
       "      <th>4</th>\n",
       "      <td>வா வாத்தி</td>\n",
       "      <td>வாத்தி</td>\n",
       "      <td>2022</td>\n",
       "      <td>GV பிரகாஷ் குமார்</td>\n",
       "      <td>தனுஷ்</td>\n",
       "      <td>ஸ்வேதா மோகன்</td>\n",
       "      <td>ஒருதல காதல தந்த இந்த தறுதல மனசுக்குள் வந்த ஒரு...</td>\n",
       "      <td>உருவகம்</td>\n",
       "      <td>குயில்</td>\n",
       "      <td>காதல் விருப்பம்</td>\n",
       "      <td>உன் பேர தினம் கூவும் குயிலாஆனேன் நான்</td>\n",
       "    </tr>\n",
       "  </tbody>\n",
       "</table>\n",
       "</div>"
      ],
      "text/plain": [
       "                         பாடல்                படம்  வருடம்                இசை  \\\n",
       "0                எங்க அப்பத்தா  நாய் சேகர் Returns    2022   சந்தோஷ் நாராயணன்   \n",
       "1                எங்க அப்பத்தா  நாய் சேகர் Returns    2022   சந்தோஷ் நாராயணன்   \n",
       "2  என்னை விட்டு உயிர் போனாலும்          Love Today    2022  யுவன் ஷங்கர் ராஜா   \n",
       "3  சாச்சிட்டாளேஆள சாச்சிட்டாளே          Love Today    2022  யுவன் ஷங்கர் ராஜா   \n",
       "4                    வா வாத்தி              வாத்தி    2022  GV பிரகாஷ் குமார்   \n",
       "\n",
       "        பாடலாசிரியர்                     பாடகர்  \\\n",
       "0             விவேக்  வடிவேல், சந்தோஷ் நாராயணன்   \n",
       "1  துரை, அசல் கோலார்                    வடிவேல்   \n",
       "2  பிரதீப் ரங்கநாதன்              சித் ஸ்ரீராம்   \n",
       "3  பிரதீப் ரங்கநாதன்          யுவன் ஷங்கர் ராஜா   \n",
       "4              தனுஷ்               ஸ்வேதா மோகன்   \n",
       "\n",
       "                                                 வரி  உருவகம்  \\\n",
       "0  மக்காளி மக்காளி வாங்க போற யானை குட்டி ஹேய் அர ...     உவமை   \n",
       "1  எங்க அப்பத்தா ஷை டைப் நைன் பேபீஸ் யங் வயசுல வீ...     உவமை   \n",
       "2  என்னை விட்டு உயிர் போனாலும் உன்னை விட்டு நான் ...     உவமை   \n",
       "3  ஊரே அவள பார்த்தா அவ என்ன மட்டும் பார்த்தா யார்...     உவமை   \n",
       "4  ஒருதல காதல தந்த இந்த தறுதல மனசுக்குள் வந்த ஒரு...  உருவகம்   \n",
       "\n",
       "                உவமானம்                   உவமேயம்  \\\n",
       "0                பேங்கு                 பணக்காரன்   \n",
       "1                பேங்கு                 பணக்காரன்   \n",
       "2     நிலவே இல்லா வானமே                     காதலி   \n",
       "3  அவள் அவனை பார்த்தாள்  பெண்ணின் காதல் விருப்பம்   \n",
       "4                குயில்           காதல் விருப்பம்   \n",
       "\n",
       "                                    விளக்கம்  \n",
       "0               பேங்குக்கே லோன் தருவோம் பாஸ்  \n",
       "1                                     பேங்கு  \n",
       "2       நீ இல்லா நேரம் அது நிலவே இல்லா வானமே  \n",
       "3  ஊரே அவள பார்த்தா அவ என்ன மட்டும் பார்த்தா  \n",
       "4      உன் பேர தினம் கூவும் குயிலாஆனேன் நான்  "
      ]
     },
     "execution_count": 2,
     "metadata": {},
     "output_type": "execute_result"
    }
   ],
   "source": [
    "data = pd.read_csv(\"Tamil New Songs Lyrics_MetapourAdded.csv\")\n",
    "data.head()"
   ]
  },
  {
   "cell_type": "code",
   "execution_count": 3,
   "metadata": {},
   "outputs": [
    {
     "data": {
      "text/plain": [
       "பாடல்           0\n",
       "படம்            0\n",
       "வருடம்          0\n",
       "இசை             0\n",
       "பாடலாசிரியர்    0\n",
       "பாடகர்          0\n",
       "வரி             0\n",
       "உருவகம்         0\n",
       "உவமானம்         0\n",
       "உவமேயம்         0\n",
       "விளக்கம்        0\n",
       "dtype: int64"
      ]
     },
     "execution_count": 3,
     "metadata": {},
     "output_type": "execute_result"
    }
   ],
   "source": [
    "data.isnull().sum()"
   ]
  },
  {
   "attachments": {},
   "cell_type": "markdown",
   "metadata": {},
   "source": [
    "#### Convert to json DICT"
   ]
  },
  {
   "cell_type": "code",
   "execution_count": 4,
   "metadata": {},
   "outputs": [],
   "source": [
    "data.to_json('Tamil New Songs Lyrics_MetapourAdded.json', orient='records', lines=True, force_ascii=False)"
   ]
  },
  {
   "cell_type": "code",
   "execution_count": null,
   "metadata": {},
   "outputs": [],
   "source": []
  }
 ],
 "metadata": {
  "kernelspec": {
   "display_name": "Python 3",
   "language": "python",
   "name": "python3"
  },
  "language_info": {
   "codemirror_mode": {
    "name": "ipython",
    "version": 3
   },
   "file_extension": ".py",
   "mimetype": "text/x-python",
   "name": "python",
   "nbconvert_exporter": "python",
   "pygments_lexer": "ipython3",
   "version": "3.8.0 (tags/v3.8.0:fa919fd, Oct 14 2019, 19:37:50) [MSC v.1916 64 bit (AMD64)]"
  },
  "orig_nbformat": 4,
  "vscode": {
   "interpreter": {
    "hash": "bcc88a5c2b6accdcaf39c87a931cb715cc1ab684beb32819a99a5a377f971b8d"
   }
  }
 },
 "nbformat": 4,
 "nbformat_minor": 2
}
